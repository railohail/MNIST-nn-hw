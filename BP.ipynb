{
 "cells": [
  {
   "cell_type": "code",
   "execution_count": 1,
   "metadata": {},
   "outputs": [],
   "source": [
    "import numpy as np \n",
    "i = 1.5  #init input \n",
    "w_o = 0.8# init weight \n",
    "y = 0.5 #desired output \n",
    "r = 0.1 #learning rate \n",
    "\n",
    "#dC_dw = dC_da * da_dw\n",
    "#error or cost function\n",
    "#C = (a-y)**2\n",
    "\n",
    "def dC_dw(a,y,i):\n",
    "    dC_da = 2*(a-y)\n",
    "    da_dw = i #a = w*i\n",
    "    return dC_da*da_dw\n",
    "\n",
    "w = [w_o]\n",
    "a = [w_o*i]\n",
    "\n",
    "for j in range(0,100):\n",
    "    a.append(w[-1]*i)\n",
    "    w.append(w[-1]-r*dC_dw(a[-1],y,i))\n"
   ]
  }
 ],
 "metadata": {
  "kernelspec": {
   "display_name": "Font",
   "language": "python",
   "name": "python3"
  },
  "language_info": {
   "codemirror_mode": {
    "name": "ipython",
    "version": 3
   },
   "file_extension": ".py",
   "mimetype": "text/x-python",
   "name": "python",
   "nbconvert_exporter": "python",
   "pygments_lexer": "ipython3",
   "version": "3.8.19"
  }
 },
 "nbformat": 4,
 "nbformat_minor": 2
}
